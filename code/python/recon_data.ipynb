{
 "cells": [
  {
   "cell_type": "markdown",
   "metadata": {},
   "source": [
    "# Working with raw MRI data\n",
    "Code adapted from: https://github.com/ismrmrd/ismrmrd-paper\n",
    "\n",
    "This is an example Jupyter Notebook with simple code for reconstructing an MRI image from raw data in the ISMRMRD format, intended for educational purposes only. For details and more advanced methods check [Inati et al. ISMRM Raw Data Format: A Proposed Standard for MRI Raw Datasets](https://pmc.ncbi.nlm.nih.gov/articles/PMC4967038/) and resources provided by the [ISMRMRD development team](https://ismrmrd.github.io/apidocs/1.5.0/)."
   ]
  },
  {
   "cell_type": "markdown",
   "metadata": {},
   "source": [
    "### Prerequisites \n",
    "\n",
    "If you are working on Binder, you can start immediately with loading packages and reading in the provided dataset. \n",
    "\n",
    "If you are working in your local python environment we first need to install the ismrmrd package. To do this, run the following command in your terminal/command prompt. Note that this requires git to be installed on your system."
   ]
  },
  {
   "cell_type": "markdown",
   "metadata": {},
   "source": [
    "```bash\n",
    "pip install git+https://github.com/ismrmrd/ismrmrd-python.git"
   ]
  },
  {
   "cell_type": "markdown",
   "metadata": {},
   "source": [
    "### Downloading data\n",
    "\n",
    "If you are working on Binder, you don't need to download data, as there is a dataset (testdata.h5) already provided. Alternatively you can also upload a different dataset.\n",
    "\n",
    "You can find raw data on [mridata.org](mridata.org):\n",
    "There, go to Data List. Use the Advanced Search to search for the UUID:\n"
   ]
  },
  {
   "cell_type": "markdown",
   "metadata": {},
   "source": [
    "**3dc8a1a2-5d1e-4200-b04c-98f8b4b62a72**"
   ]
  },
  {
   "cell_type": "markdown",
   "metadata": {},
   "source": [
    " which is the example dataset provided on Binder. \n",
    "\n",
    "This script should also work for any of the other datasets from the projects _NYU Machine Learning_ or _Stanford 2D FSE_.\n",
    "\n",
    "You can download a dataset without sign up or login. Place it in the folder where this Jupyter Notebook is located and rename it to testdata.h5"
   ]
  },
  {
   "cell_type": "markdown",
   "metadata": {},
   "source": [
    "### Loading packages"
   ]
  },
  {
   "cell_type": "code",
   "execution_count": null,
   "metadata": {},
   "outputs": [],
   "source": [
    "# run this to import the necessary packages\n",
    "\n",
    "import numpy as np\n",
    "from numpy.fft import fftshift, ifftshift, fftn, ifftn\n",
    "import matplotlib.pyplot as plt\n",
    "import ismrmrd\n",
    "import ismrmrd.xsd\n",
    "import h5py"
   ]
  },
  {
   "cell_type": "markdown",
   "metadata": {},
   "source": [
    "### Loading k-space data from ISMRMRD files"
   ]
  },
  {
   "cell_type": "code",
   "execution_count": null,
   "metadata": {},
   "outputs": [],
   "source": [
    "# Adapt this if your dataset is named differently\n",
    "fname = 'testdata' \n",
    "fname = 'C:/Users/marle/Professional/NOS local/FT MRT Tutorial/rawData/standford_foot'\n",
    "\n",
    "# Find the dataset\n",
    "dset = ismrmrd.Dataset('%s.h5'%fname, 'dataset', create_if_needed=False)\n",
    "\n",
    "# Read the header containing metadata about the dataset\n",
    "header = ismrmrd.xsd.CreateFromDocument(dset.read_xml_header())\n",
    "\n",
    "# Read encoding parameters\n",
    "enc = header.encoding[0]\n",
    "\n",
    "# Number of encoding steps in each directions\n",
    "eNx = enc.encodedSpace.matrixSize.x\n",
    "eNy = enc.encodedSpace.matrixSize.y\n",
    "eNz = enc.encodedSpace.matrixSize.z\n",
    "\n",
    "# Number of Slices\n",
    "if enc.encodingLimits.slice != None:\n",
    "    nslices = enc.encodingLimits.slice.maximum + 1\n",
    "else: \n",
    "    # Because this Notebook strongly simplified\n",
    "    # it is not compatible with non-slice encoded (i.e. 3D FT encoded) data\n",
    "    raise ValueError(\"Data is not slice encoded\")\n",
    "\n",
    "# Number of Repetitions \n",
    "if enc.encodingLimits.repetition != None:\n",
    "    nreps = enc.encodingLimits.repetition.maximum + 1\n",
    "else:\n",
    "    nreps = 1\n",
    "\n",
    "# Number of Contrasts (e.g. T1, T2...)\n",
    "if enc.encodingLimits.contrast != None:\n",
    "    ncontrasts = enc.encodingLimits.contrast.maximum + 1\n",
    "else:\n",
    "    ncontrasts = 1\n",
    "\n",
    "# Number of Coils \n",
    "acq = dset.read_acquisition(0)\n",
    "ncoils = acq.active_channels\n",
    "\n",
    "# Initialiaze an empty storage array\n",
    "all_data = np.zeros((nreps, ncontrasts, nslices, ncoils, eNz, eNy, eNx), dtype=np.complex64)\n",
    "\n",
    "# Loop through all the acquisitions and store data in the array\n",
    "for acqnum in range(dset.number_of_acquisitions()):\n",
    "    acq = dset.read_acquisition(acqnum)\n",
    "\n",
    "    # Ignore noise scans\n",
    "    if acq.isFlagSet(ismrmrd.ACQ_IS_NOISE_MEASUREMENT):\n",
    "        continue\n",
    "\n",
    "    # Read acquisition parameters\n",
    "    rep = acq.idx.repetition\n",
    "    contrast = acq.idx.contrast\n",
    "    slice = acq.idx.slice\n",
    "    ky = acq.idx.kspace_encode_step_1\n",
    "    kz = acq.idx.kspace_encode_step_2\n",
    "\n",
    "    # Store data in appropriate place in the array\n",
    "    all_data[rep, contrast, slice, :, kz, ky, :] = acq.data\n",
    "\n",
    "# Close the dataset    \n",
    "dset.close()"
   ]
  },
  {
   "cell_type": "code",
   "execution_count": null,
   "metadata": {},
   "outputs": [],
   "source": [
    "# We will now select a set of parameters to extract a simple k-space matrix\n",
    "\n",
    "rep = 0 #can be anywhere between 0 and nreps-1\n",
    "contrast = 0 #accordingly with nconstrasts\n",
    "coil = 0\n",
    "\n",
    "# For the provided testdata set this is a nice slice\n",
    "slice = 19\n",
    "\n",
    "# Because we use slice encoding, we can set kz to 0\n",
    "kz = 0 \n",
    "\n",
    "slice_data = all_data[rep,contrast,slice,coil,kz,:,:]   \n",
    "\n",
    "# Let's take a look at our k-space\n",
    "\n",
    "# For plotting, we take the magnitude\n",
    "# We also need to flip the axes because of how imshow interprets them\n",
    "k_plot = np.abs(slice_data.T)\n",
    "\n",
    "plt.figure()\n",
    "plt.imshow(k_plot, cmap='gray')\n",
    "plt.axis('off')"
   ]
  },
  {
   "cell_type": "markdown",
   "metadata": {},
   "source": [
    "### Reconstructing an image"
   ]
  },
  {
   "cell_type": "code",
   "execution_count": null,
   "metadata": {},
   "outputs": [],
   "source": [
    "# As the k-space is not in the expected shape for fft,\n",
    "# we need to shift it with fftshift, then perform inverse fft, and shift again\n",
    "img = fftshift(ifftn(ifftshift(slice_data)))\n",
    "\n",
    "# For plotting we again take the magnitude and transpose\n",
    "img_plot = np.abs(img.T)\n",
    "\n",
    "plt.figure()\n",
    "plt.imshow(img_plot, cmap='gray')\n",
    "plt.axis('off')"
   ]
  },
  {
   "cell_type": "markdown",
   "metadata": {},
   "source": [
    "### Optionally export the k-space matrix\n",
    "To continue working with the k-space data with different softare, e.g. in R, we export it to a file on disk.\n",
    "\n",
    "This is now a simple 2d-matrix with complex entries but without any metadata. For consistency, we are using the .h5 format for storage again."
   ]
  },
  {
   "cell_type": "code",
   "execution_count": null,
   "metadata": {},
   "outputs": [],
   "source": [
    "fname = 'k_slice.h5' # Optionally adapt file name\n",
    "\n",
    "# Store the real and imaginary parts as separate matrices\n",
    "with h5py.File(fname, 'w') as f:\n",
    "    f.create_dataset('/K_slice_real', data=np.real(slice_data), dtype='float64')\n",
    "    f.create_dataset('/K_slice_imag', data=np.imag(slice_data), dtype='float64')\n",
    "\n",
    "f.close()\n",
    "  "
   ]
  }
 ],
 "metadata": {
  "kernelspec": {
   "display_name": "Python 3",
   "language": "python",
   "name": "python3"
  },
  "language_info": {
   "codemirror_mode": {
    "name": "ipython",
    "version": 3
   },
   "file_extension": ".py",
   "mimetype": "text/x-python",
   "name": "python",
   "nbconvert_exporter": "python",
   "pygments_lexer": "ipython3",
   "version": "3.11.0"
  }
 },
 "nbformat": 4,
 "nbformat_minor": 2
}
