{
 "cells": [
  {
   "cell_type": "markdown",
   "metadata": {},
   "source": [
    "# Working with raw MRI data\n",
    "Code adapted from: https://github.com/ismrmrd/ismrmrd-paper\n",
    "\n",
    "This is an example Jupyter Notebook with simple code for reconstructing an MRI image from raw data in the ISMRMRD format, intended for educational purposes only. For details and more advanced methods check [Inati et al. ISMRM Raw Data Format: A Proposed Standard for MRI Raw Datasets](https://pmc.ncbi.nlm.nih.gov/articles/PMC4967038/) and resources provided by the [ISMRMRD development team](https://ismrmrd.github.io/apidocs/1.5.0/)"
   ]
  },
  {
   "cell_type": "markdown",
   "metadata": {},
   "source": [
    "If you are working in Binder, you can start immediately with loading packages and reading in the pre-downloaded dataset. \n",
    "\n",
    "If you are working in your local python environment we first need to install the ismrmrd package. Do this run the following command in your terminal/command prompt. Not that this requires git to be installed on your system."
   ]
  },
  {
   "cell_type": "markdown",
   "metadata": {},
   "source": [
    "```bash\n",
    "pip install git+https://github.com/ismrmrd/ismrmrd-python.git"
   ]
  },
  {
   "cell_type": "markdown",
   "metadata": {},
   "source": [
    "## Downloading data\n",
    "\n",
    "If you are working in binder, there is some data (testdata.h5) already downloaded. You can also download data and upload it here.\n",
    "\n",
    "You can download data either by\n",
    "\n",
    "### 1. Downloading from mridata.org\n",
    " \n",
    "Go to mridata.org. Go to Data List. This script should work for any of the datasets from the NYU Machine Learning project or the Stanford 2D FSE project, e.g. the foot. You can download a dataset with sign up or login. Rename it to testdata.h5\n",
    "\n",
    "### 2. Downloading the data used in the paper\n",
    "\n",
    "Run command in terminal. Rename one of the files."
   ]
  },
  {
   "cell_type": "code",
   "execution_count": null,
   "metadata": {},
   "outputs": [
    {
     "name": "stdout",
     "output_type": "stream",
     "text": [
      "Defaulting to user installation because normal site-packages is not writeable\n",
      "Collecting git+https://github.com/ismrmrd/ismrmrd-python.git\n",
      "  Cloning https://github.com/ismrmrd/ismrmrd-python.git to c:\\users\\marle\\appdata\\local\\temp\\pip-req-build-gc5j3j_8\n",
      "  Resolved https://github.com/ismrmrd/ismrmrd-python.git to commit b93bc1bf351bfd949a73343da3547be58922b819\n",
      "  Installing build dependencies: started\n",
      "  Installing build dependencies: finished with status 'done'\n",
      "  Getting requirements to build wheel: started\n",
      "  Getting requirements to build wheel: finished with status 'done'\n",
      "  Installing backend dependencies: started\n",
      "  Installing backend dependencies: finished with status 'done'\n",
      "  Preparing metadata (pyproject.toml): started\n",
      "  Preparing metadata (pyproject.toml): finished with status 'done'\n",
      "Requirement already satisfied: xsdata>=22.12 in c:\\users\\marle\\appdata\\roaming\\python\\python311\\site-packages (from ismrmrd==1.14.1) (25.7)\n",
      "Requirement already satisfied: numpy>=1.22.0 in c:\\users\\marle\\appdata\\roaming\\python\\python311\\site-packages (from ismrmrd==1.14.1) (1.23.4)\n",
      "Collecting h5py>=2.3\n",
      "  Using cached h5py-3.14.0-cp311-cp311-win_amd64.whl (2.9 MB)\n",
      "Requirement already satisfied: typing-extensions>=4.7.0 in c:\\users\\marle\\appdata\\roaming\\python\\python311\\site-packages (from xsdata>=22.12->ismrmrd==1.14.1) (4.12.2)\n",
      "Building wheels for collected packages: ismrmrd\n",
      "  Building wheel for ismrmrd (pyproject.toml): started\n",
      "  Building wheel for ismrmrd (pyproject.toml): finished with status 'done'\n",
      "  Created wheel for ismrmrd: filename=ismrmrd-1.14.1-py3-none-any.whl size=31384 sha256=50b290292b28d7760a3485537dcb869761562b8f0075cad08ef511723913105d\n",
      "  Stored in directory: C:\\Users\\marle\\AppData\\Local\\Temp\\pip-ephem-wheel-cache-5eyzogny\\wheels\\a1\\cf\\87\\17342640457f936eb07c2e5d468cb1f013bdc9aacccbc8480e\n",
      "Successfully built ismrmrd\n",
      "Installing collected packages: h5py, ismrmrd\n",
      "Successfully installed h5py-3.14.0 ismrmrd-1.14.1\n"
     ]
    },
    {
     "name": "stderr",
     "output_type": "stream",
     "text": [
      "  Running command git clone --filter=blob:none --quiet https://github.com/ismrmrd/ismrmrd-python.git 'C:\\Users\\marle\\AppData\\Local\\Temp\\pip-req-build-gc5j3j_8'\n",
      "\n",
      "[notice] A new release of pip available: 22.3 -> 25.1.1\n",
      "[notice] To update, run: python.exe -m pip install --upgrade pip\n",
      "C:\\Users\\marle\\AppData\\Roaming\\Python\\Python311\\site-packages\\IPython\\utils\\_process_common.py:109: ResourceWarning: unclosed file <_io.BufferedWriter name=3>\n",
      "  return out\n",
      "ResourceWarning: Enable tracemalloc to get the object allocation traceback\n",
      "C:\\Users\\marle\\AppData\\Roaming\\Python\\Python311\\site-packages\\IPython\\utils\\_process_common.py:109: ResourceWarning: unclosed file <_io.BufferedReader name=4>\n",
      "  return out\n",
      "ResourceWarning: Enable tracemalloc to get the object allocation traceback\n",
      "C:\\Users\\marle\\AppData\\Roaming\\Python\\Python311\\site-packages\\IPython\\utils\\_process_common.py:109: ResourceWarning: unclosed file <_io.BufferedReader name=5>\n",
      "  return out\n",
      "ResourceWarning: Enable tracemalloc to get the object allocation traceback\n"
     ]
    }
   ],
   "source": [
    "#test\n",
    "\n",
    "# working locally? install ismrmrd by running this in your terminal\n",
    "#pip install git+https://github.com/ismrmrd/ismrmrd-python.git\n",
    "\n",
    "# working in google colab or binder? Uncomment and run here\n",
    "#!pip install git+https://github.com/ismrmrd/ismrmrd-python.git"
   ]
  },
  {
   "cell_type": "code",
   "execution_count": 24,
   "metadata": {},
   "outputs": [],
   "source": [
    "import numpy as np\n",
    "from numpy.fft import fftshift, ifftshift, fftn, ifftn\n",
    "import ismrmrd\n",
    "import ismrmrd.xsd\n",
    "import h5py"
   ]
  },
  {
   "cell_type": "code",
   "execution_count": 31,
   "metadata": {},
   "outputs": [],
   "source": [
    "\n",
    "#fname = 'knee'\n",
    "fname = 'ismrmrd_data/ismrmrd_data/Bruker/bruker'\n",
    "\n",
    "dset = ismrmrd.Dataset('%s.h5'%fname, 'dataset', create_if_needed=False)\n",
    "header = ismrmrd.xsd.CreateFromDocument(dset.read_xml_header())\n",
    "enc = header.encoding[0]\n",
    "\n",
    "# Matrix size\n",
    "eNx = enc.encodedSpace.matrixSize.x\n",
    "eNy = enc.encodedSpace.matrixSize.y\n",
    "eNz = enc.encodedSpace.matrixSize.z\n",
    "rNx = enc.reconSpace.matrixSize.x\n",
    "rNy = enc.reconSpace.matrixSize.y\n",
    "rNz = enc.reconSpace.matrixSize.z\n",
    "\n",
    "    # Number of Slices, Reps, Contrasts, etc.\n",
    "if enc.encodingLimits.slice != None:\n",
    "    nslices = enc.encodingLimits.slice.maximum + 1\n",
    "else:\n",
    "    nslices = 1\n",
    "\n",
    "if enc.encodingLimits.repetition != None:\n",
    "    nreps = enc.encodingLimits.repetition.maximum + 1\n",
    "else:\n",
    "    nreps = 1\n",
    "\n",
    "if enc.encodingLimits.contrast != None:\n",
    "    ncontrasts = enc.encodingLimits.contrast.maximum + 1\n",
    "else:\n",
    "    ncontrasts = 1\n",
    "\n",
    "# the number of coils is optional, so get it from the first acquisition\n",
    "acq = dset.read_acquisition(0)\n",
    "ncoils = acq.active_channels\n"
   ]
  },
  {
   "cell_type": "code",
   "execution_count": 32,
   "metadata": {},
   "outputs": [],
   "source": [
    "# Initialiaze a storage array\n",
    "all_data = np.zeros((nreps, ncontrasts, nslices, ncoils, eNz, eNy, eNx), dtype=np.complex64)\n",
    "\n",
    "# Loop through the rest of the acquisitions and stuff\n",
    "for acqnum in range(dset.number_of_acquisitions()):\n",
    "    acq = dset.read_acquisition(acqnum)\n",
    "\n",
    "    # Ignore noise scans\n",
    "    if acq.isFlagSet(ismrmrd.ACQ_IS_NOISE_MEASUREMENT):\n",
    "        continue\n",
    "\n",
    "    # Stuff into the buffer\n",
    "    rep = acq.idx.repetition\n",
    "    contrast = acq.idx.contrast\n",
    "    slice = acq.idx.slice\n",
    "    ky = acq.idx.kspace_encode_step_1\n",
    "    kz = acq.idx.kspace_encode_step_2\n",
    "    all_data[rep, contrast, slice, :, kz, ky, :] = acq.data\n",
    "\n",
    "    \n",
    "dset.close()\n"
   ]
  },
  {
   "cell_type": "code",
   "execution_count": 34,
   "metadata": {},
   "outputs": [],
   "source": [
    "# we select one slice \n",
    "rep = 0\n",
    "contrast = 0\n",
    "slice = 10\n",
    "slice = 0 #set this anywhere between 0 and nSlices-1\n",
    "coil = 0\n",
    "kz = 0 #because we used slice encoding\n",
    "\n",
    "slice_data = all_data[rep,contrast,slice,coil,kz,:,:]   "
   ]
  },
  {
   "cell_type": "code",
   "execution_count": 35,
   "metadata": {},
   "outputs": [],
   "source": [
    "fname = 'k_slice_kiwi.h5'\n",
    "\n",
    "# Stick the array into the hdf5 file\n",
    "with h5py.File(fname, 'w') as f:\n",
    "    f.create_dataset('/K_slice_real', data=np.real(slice_data), dtype='float64')\n",
    "    f.create_dataset('/K_slice_imag', data=np.imag(slice_data), dtype='float64')\n",
    "\n",
    "f.close()\n",
    "  "
   ]
  },
  {
   "cell_type": "code",
   "execution_count": null,
   "metadata": {},
   "outputs": [],
   "source": []
  }
 ],
 "metadata": {
  "kernelspec": {
   "display_name": "Python 3",
   "language": "python",
   "name": "python3"
  },
  "language_info": {
   "codemirror_mode": {
    "name": "ipython",
    "version": 3
   },
   "file_extension": ".py",
   "mimetype": "text/x-python",
   "name": "python",
   "nbconvert_exporter": "python",
   "pygments_lexer": "ipython3",
   "version": "3.11.0"
  }
 },
 "nbformat": 4,
 "nbformat_minor": 2
}
